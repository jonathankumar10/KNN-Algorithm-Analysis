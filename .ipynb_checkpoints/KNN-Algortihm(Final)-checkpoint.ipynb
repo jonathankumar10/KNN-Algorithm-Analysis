{
 "cells": [
  {
   "cell_type": "code",
   "execution_count": 8,
   "metadata": {},
   "outputs": [],
   "source": [
    "import numpy as np\n",
    "import pandas as pd\n",
    "from math import sqrt\n",
    "from random import seed\n",
    "from random import randrange\n",
    "\n",
    "class KNN(object):\n",
    "    def __init__(self,k= 5):\n",
    "        self.k = k\n",
    "        \n",
    "    #load csv file\n",
    "    def load_csv(self,filename):\n",
    "        df = pd.read_csv(filename, header = None)\n",
    "        return df\n",
    "    \n",
    "    #convert string column to integer (class values to interger)\n",
    "    def stringColumnsToInts(self,dataset,column):\n",
    "        classValues = [row[column] for row in dataset]\n",
    "        uniqueValues = set(classValues)\n",
    "        intValues = dict()\n",
    "        for i, value in enumerate(uniqueValues):\n",
    "            intValues[value] = i\n",
    "        for row in dataset:\n",
    "            row[column] =  intValues[row[column]]\n",
    "        return intValues\n",
    "    \n",
    "    #Split data into k-folds\n",
    "    def k_Folds(self,dataset, n_folds):\n",
    "        datasetCopy = list(dataset)\n",
    "        datasetSplit = list()\n",
    "        foldSize = int(len(dataset)/n_folds)\n",
    "        for i in range (n_folds):\n",
    "            fold = list()\n",
    "            while len(fold) < foldSize:\n",
    "                index = randrange(len(datasetCopy))\n",
    "                fold.append(datasetCopy.pop(index))\n",
    "            datasetSplit.append(fold)\n",
    "        return datasetSplit\n",
    "    \n",
    "    # Find the min and max values for each column\n",
    "    def dataset_minmax(self,dataset):\n",
    "        minmax = list()\n",
    "        for i in range(len(dataset[0])):\n",
    "            col_values = [row[i] for row in dataset]\n",
    "            value_min = min(col_values)\n",
    "            value_max = max(col_values)\n",
    "            minmax.append([value_min, value_max])\n",
    "        return minmax\n",
    "\n",
    "    # Rescale dataset columns to the range 0-1\n",
    "    def normalize_dataset(self,dataset,minmax):\n",
    "        normalizedList = list(dataset)\n",
    "        for row in normalizedList:\n",
    "            for i in range(len(row)):\n",
    "                row[i] = (row[i] - minmax[i][0]) / (minmax[i][1] - minmax[i][0])\n",
    "        return normalizedList\n",
    "    \n",
    "    #calculate accuracy percentage\n",
    "    def accuracyMetric(self,actual, predicted):\n",
    "        correct = 0.0\n",
    "        for i in range (len(actual)):\n",
    "            if actual[i] == predicted[i]:\n",
    "                correct += 1\n",
    "        percentage = correct / float(len(actual)) *100.0\n",
    "        return percentage\n",
    "    \n",
    "    #Calculate Euclidean Distance between 2 vectors/rows.\n",
    "    def calculateEuclideanDistance(self,row1, row2):\n",
    "        for i in range(len(row1)-1):\n",
    "            sum_sq = np.sum(np.square(row1[i] - row2[i]))\n",
    "        return (np.sqrt(sum_sq)) \n",
    "    \n",
    "    #Calculate the nearest neighbors.\n",
    "    def calculateNearestNeighbors(self,train, test_row, num_neighbors):\n",
    "        distances = list()\n",
    "        for train_row in train:\n",
    "            dist = self.calculateEuclideanDistance(train_row, test_row)\n",
    "            distances.append((train_row, dist))\n",
    "        distances.sort(key = lambda tup : tup[1])\n",
    "        neighbors = list()\n",
    "        for i in range(num_neighbors):\n",
    "            neighbors.append(distances[i][0])\n",
    "        return neighbors\n",
    "    \n",
    "    #make predictions.\n",
    "    def makePredictions(self,train, test_row, num_neighbors):\n",
    "        neighbors = self.calculateNearestNeighbors(train, test_row, num_neighbors)\n",
    "        outputValues = [row[-1] for row in neighbors]\n",
    "        prediction = max(set(outputValues), key = outputValues.count )\n",
    "        return prediction\n",
    "    \n",
    "    #evaluate algorithm using a cross validation split to check score\n",
    "    def evaluateAlgorithm(self,dataset, algorithm, n_folds, *args):\n",
    "        folds = self.k_Folds(dataset, n_folds)\n",
    "        score = list()\n",
    "        for fold in folds:\n",
    "            trainSet = list(folds)\n",
    "            trainSet.remove(fold)\n",
    "            trainSet = sum(trainSet, [])\n",
    "            testSet = list()\n",
    "            for row in fold:\n",
    "                rowCopy = list(row)\n",
    "                testSet.append(rowCopy)\n",
    "                rowCopy[-1] = None\n",
    "            actual = [row[-1] for row in fold]\n",
    "            predicted = algorithm(trainSet, testSet, *args)\n",
    "            accuracy = self.accuracyMetric(actual, predicted)\n",
    "            score.append(accuracy)\n",
    "        return score\n",
    "    \n",
    "    #KNN Algorithm\n",
    "    def kNN_Algorithm(self,train, test, num_neighbors):\n",
    "        predictions = list()\n",
    "        for row in test:\n",
    "            output = self.makePredictions(train, row, num_neighbors)\n",
    "            predictions.append(output)\n",
    "        return predictions"
   ]
  },
  {
   "cell_type": "markdown",
   "metadata": {},
   "source": [
    "IRIS DATASET"
   ]
  },
  {
   "cell_type": "code",
   "execution_count": 9,
   "metadata": {},
   "outputs": [
    {
     "name": "stdout",
     "output_type": "stream",
     "text": [
      "Please provide fold number:10\n",
      "Please provide number of neighbors:5\n",
      "If normal values to be viewed press 'a' or if you need normalized values press 'b' : a\n",
      "Scores: [100.0, 100.0, 93.33333333333333, 93.33333333333333, 93.33333333333333, 93.33333333333333, 100.0, 80.0, 100.0, 100.0]\n",
      "Mean Accuracy: 95.333%\n"
     ]
    }
   ],
   "source": [
    "iris_knn = KNN()\n",
    "\n",
    "seed(12)\n",
    "filename = 'Datasets/iris.csv'\n",
    "iris_df = iris_knn.load_csv(filename)\n",
    "iris_df.columns = [\"sepal length\", \"sepal width\", \"petal length\", \"petal width\", \"Class\"]\n",
    "iris_df.Class.replace(('Iris-setosa','Iris-versicolor','Iris-virginica'),(1,2,3), inplace=True)\n",
    "iris_dataset = iris_df.values.tolist()\n",
    "iris_minmax = iris_knn.dataset_minmax(iris_dataset)\n",
    "normalized_iris_dataset = iris_knn.normalize_dataset(iris_dataset,iris_minmax)\n",
    "n_folds = int(input(\"Please provide fold number:\" ))\n",
    "num_neighbors = int(input(\"Please provide number of neighbors:\" ))\n",
    "options = input(\"If normal values to be viewed press 'a' or if you need normalized values press 'b' : \")\n",
    "if options == 'a':\n",
    "    scores = iris_knn.evaluateAlgorithm(iris_dataset, iris_knn.kNN_Algorithm, n_folds, num_neighbors)\n",
    "elif options == 'b':\n",
    "    scores = iris_knn.evaluateAlgorithm(normalized_iris_dataset, iris_knn.kNN_Algorithm, n_folds, num_neighbors)\n",
    "print('Scores: %s' % scores)\n",
    "print('Mean Accuracy: %.3f%%' % (sum(scores)/float(len(scores))))"
   ]
  },
  {
   "cell_type": "markdown",
   "metadata": {},
   "source": [
    "HAYES-ROTH DATASET"
   ]
  },
  {
   "cell_type": "code",
   "execution_count": 10,
   "metadata": {},
   "outputs": [
    {
     "name": "stdout",
     "output_type": "stream",
     "text": [
      "Please provide fold number:10\n",
      "Please provide number of neighbors:5\n",
      "If normal values to be viewed press 'a' or if you need normalized values press 'b' : a\n",
      "Scores: [38.46153846153847, 30.76923076923077, 76.92307692307693, 61.53846153846154, 30.76923076923077, 69.23076923076923, 46.15384615384615, 46.15384615384615, 53.84615384615385, 69.23076923076923]\n",
      "Mean Accuracy: 52.308%\n"
     ]
    }
   ],
   "source": [
    "hayes_roth_knn = KNN()\n",
    "\n",
    "seed(1)\n",
    "filename = 'Datasets/hayes-roth.data'\n",
    "hayes_roth_df = hayes_roth_knn.load_csv(filename)\n",
    "hayes_roth_df.columns = [\"name\", \"hobby\", \"age\", \"educational level\", \"marital status\",\"class\"]\n",
    "hayes_roth_dataset = hayes_roth_df.values.tolist()\n",
    "hayes_roth_minmax = hayes_roth_knn.dataset_minmax(hayes_roth_dataset)\n",
    "normalized_hayes_roth_dataset = hayes_roth_knn.normalize_dataset(hayes_roth_dataset,hayes_roth_minmax)\n",
    "n_folds = int(input(\"Please provide fold number:\" ))\n",
    "num_neighbors = int(input(\"Please provide number of neighbors:\" ))\n",
    "options = input(\"If normal values to be viewed press 'a' or if you need normalized values press 'b' : \")\n",
    "if options == 'a':\n",
    "    scores = hayes_roth_knn.evaluateAlgorithm(hayes_roth_dataset, hayes_roth_knn.kNN_Algorithm, n_folds, num_neighbors)\n",
    "elif options == 'b':\n",
    "    scores = hayes_roth_knn.evaluateAlgorithm(normalized_hayes_roth_dataset, hayes_roth_knn.kNN_Algorithm, n_folds, num_neighbors)\n",
    "print('Scores: %s' % scores)\n",
    "print('Mean Accuracy: %.3f%%' % (sum(scores)/float(len(scores))))"
   ]
  },
  {
   "cell_type": "markdown",
   "metadata": {},
   "source": [
    "CARS DATASET"
   ]
  },
  {
   "cell_type": "code",
   "execution_count": 11,
   "metadata": {},
   "outputs": [
    {
     "name": "stdout",
     "output_type": "stream",
     "text": [
      "Please provide fold number:10\n",
      "Please provide number of neighbors:5\n",
      "If normal values to be viewed press 'a' or if you need normalized values press 'b' : a\n",
      "Scores: [69.18604651162791, 69.18604651162791, 63.372093023255815, 65.11627906976744, 63.95348837209303, 59.883720930232556, 66.86046511627907, 67.44186046511628, 65.11627906976744, 67.44186046511628]\n",
      "Mean Accuracy: 65.756%\n"
     ]
    }
   ],
   "source": [
    "car_knn = KNN()\n",
    "\n",
    "seed(10)\n",
    "filename = 'Datasets/car.data'\n",
    "car_df = car_knn.load_csv(filename)\n",
    "car_df.columns = [\"buying\",\"maint\",\"doors\",\"persons\",\"lug_boot\",\"safety\",\"Class\"]\n",
    "car_df.Class.replace(('unacc','acc','good','vgood'),(0,1,2,3), inplace=True)\n",
    "car_df.buying.replace(('vhigh','high','med','low'),(0,1,2,3), inplace=True)\n",
    "car_df.maint.replace(('vhigh','high','med','low'),(0,1,2,3), inplace=True)\n",
    "car_df.lug_boot.replace(('small','med','big'),(1,2,3), inplace=True)\n",
    "car_df.safety.replace(('low','med','high'),(1,2,3), inplace=True)\n",
    "car_df.persons.replace(('2','4','more'),(2,4,5), inplace=True)\n",
    "car_df.doors.replace(('2','3','4','5more'),(2,3,4,5), inplace=True)\n",
    "car_df.to_csv(r'C:\\Users\\jonat\\Projects\\Python\\KNN-Algorithm(Final)\\NewCar.csv', index = False)\n",
    "car_dataset = car_df.values.tolist()\n",
    "car_minmax = car_knn.dataset_minmax(car_dataset)\n",
    "normalized_car_dataset = car_knn.normalize_dataset(car_dataset,car_minmax)\n",
    "n_folds = int(input(\"Please provide fold number:\" ))\n",
    "num_neighbors = int(input(\"Please provide number of neighbors:\" ))\n",
    "options = input(\"If normal values to be viewed press 'a' or if you need normalized values press 'b' : \")\n",
    "if options == 'a':\n",
    "    scores = car_knn.evaluateAlgorithm(car_dataset, car_knn.kNN_Algorithm, n_folds, num_neighbors)\n",
    "elif options == 'b':\n",
    "    scores = car_knn.evaluateAlgorithm(normalized_car_dataset, car_knn.kNN_Algorithm, n_folds, num_neighbors)\n",
    "print('Scores: %s' % scores)\n",
    "print('Mean Accuracy: %.3f%%' % (sum(scores)/float(len(scores))))"
   ]
  },
  {
   "cell_type": "markdown",
   "metadata": {},
   "source": [
    "BREAST-CANCER DATASET"
   ]
  },
  {
   "cell_type": "code",
   "execution_count": 12,
   "metadata": {},
   "outputs": [
    {
     "name": "stdout",
     "output_type": "stream",
     "text": [
      "Please provide fold number:10\n",
      "Please provide number of neighbors:5\n",
      "If normal values to be viewed press 'a' or if you need normalized values press 'b' : a\n",
      "Scores: [75.0, 75.0, 57.14285714285714, 39.285714285714285, 67.85714285714286, 64.28571428571429, 75.0, 71.42857142857143, 71.42857142857143, 82.14285714285714]\n",
      "Mean Accuracy: 67.857%\n"
     ]
    }
   ],
   "source": [
    "cancer_knn = KNN()\n",
    "\n",
    "seed(6)\n",
    "filename = 'Datasets/breast-cancer.data'\n",
    "cancer_df = cancer_knn.load_csv(filename)\n",
    "cancer_df.columns = [\"Class\",\"age\",\"menopause\",\"tumor\",\"inv\",\"node\",\"degMalig\",\"breast\",\"breastQuad\",\"irradiat\"]\n",
    "cols = list(cancer_df.columns.values)\n",
    "cancer_df = cancer_df[cols[1:] + [cols[0]]]\n",
    "cancer_df.Class.replace(('no-recurrence-events','recurrence-events'),(1,2), inplace=True)\n",
    "cancer_df.age.replace(('10-19','20-29','30-39','40-49','50-59','60-69','70-79','80-89','90-99'),(1,2,3,4,5,6,7,8,9), inplace=True)\n",
    "cancer_df.menopause.replace(('lt40','ge40','premeno'),(1,2,3), inplace=True)\n",
    "cancer_df.tumor.replace(('0-4','5-9','10-14','15-19','20-24','25-29','30-34','35-39','40-44','45-49','50-54','55-59'),(1,2,3,4,5,6,7,8,9,10,11,12), inplace=True)\n",
    "cancer_df.inv.replace(('0-2','3-5','6-8','9-11','12-14','15-17','18-20','21-23','24-26','27-29','30-32','33-35','36-39'),(1,2,3,4,5,6,7,8,9,10,11,12,13), inplace=True)\n",
    "cancer_df.node.replace(('yes','no','?'),(1,2,3), inplace=True)\n",
    "cancer_df.breast.replace(('left','right'),(1,2), inplace=True)\n",
    "cancer_df.breastQuad.replace(('left_up','left_low','right_up','right_low','central','?'),(1,2,3,4,5,6), inplace=True)\n",
    "cancer_df.irradiat.replace(('yes','no','?'),(1,2,3), inplace=True)\n",
    "cancer_dataset = cancer_df.values.tolist()\n",
    "cancer_minmax = cancer_knn.dataset_minmax(cancer_dataset)\n",
    "normalized_cancer_dataset = cancer_knn.normalize_dataset(cancer_dataset,cancer_minmax)\n",
    "n_folds = int(input(\"Please provide fold number:\" ))\n",
    "num_neighbors = int(input(\"Please provide number of neighbors:\" ))\n",
    "options = input(\"If normal values to be viewed press 'a' or if you need normalized values press 'b' : \")\n",
    "if options == 'a':\n",
    "    scores = cancer_knn.evaluateAlgorithm(cancer_dataset, cancer_knn.kNN_Algorithm, n_folds, num_neighbors)\n",
    "elif options == 'b':\n",
    "    scores = cancer_knn.evaluateAlgorithm(normalized_cancer_dataset, cancer_knn.kNN_Algorithm, n_folds, num_neighbors)\n",
    "print('Scores: %s' % scores)\n",
    "print('Mean Accuracy: %.3f%%' % (sum(scores)/float(len(scores))))"
   ]
  }
 ],
 "metadata": {
  "kernelspec": {
   "display_name": "Python 3",
   "language": "python",
   "name": "python3"
  },
  "language_info": {
   "codemirror_mode": {
    "name": "ipython",
    "version": 3
   },
   "file_extension": ".py",
   "mimetype": "text/x-python",
   "name": "python",
   "nbconvert_exporter": "python",
   "pygments_lexer": "ipython3",
   "version": "3.8.3"
  }
 },
 "nbformat": 4,
 "nbformat_minor": 4
}
